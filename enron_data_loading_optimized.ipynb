{
 "cells": [
  {
   "cell_type": "code",
   "execution_count": 2,
   "metadata": {},
   "outputs": [],
   "source": [
    "import os, sys, email\n",
    "import numpy as np \n",
    "import pandas as pd\n",
    "\n",
    "from datetime import datetime\n",
    "import gc\n",
    "import time\n",
    "\n",
    "from my_functions import get_user_name"
   ]
  },
  {
   "cell_type": "code",
   "execution_count": 3,
   "metadata": {},
   "outputs": [
    {
     "name": "stdout",
     "output_type": "stream",
     "text": [
      "4\n"
     ]
    }
   ],
   "source": [
    "from multiprocessing import Pool\n",
    "import multiprocessing as mp\n",
    "from multiprocessing import get_start_method\n",
    "try: \n",
    "    mp.set_start_method('spawn')\n",
    "except RuntimeError:\n",
    "    method = get_start_method()\n",
    "    print('process start method:', method)\n",
    "\n",
    "nr_of_cpu_cores = mp.cpu_count()\n",
    "print(nr_of_cpu_cores)"
   ]
  },
  {
   "cell_type": "code",
   "execution_count": 4,
   "metadata": {},
   "outputs": [],
   "source": [
    "# helper functions\n",
    "def get_text_from_email(msg):\n",
    "    '''To get the content from email objects'''\n",
    "    parts = []\n",
    "    for part in msg.walk():\n",
    "        if part.get_content_type() == 'text/plain':\n",
    "            parts.append(part.get_payload())\n",
    "\n",
    "        return ''.join(parts)\n",
    "    \n",
    "def split_email_addresses(line):\n",
    "    '''To separate multiple email addresses'''\n",
    "    if line:\n",
    "        addrs = line.split(',')\n",
    "        addrs = frozenset(map(lambda x: x.strip(), addrs))\n",
    "    else: \n",
    "        addrs = None\n",
    "    return addrs"
   ]
  },
  {
   "cell_type": "code",
   "execution_count": 5,
   "metadata": {},
   "outputs": [],
   "source": [
    "def execution_time_str(start_time: time, end_time: time) -> str:\n",
    "    execution_time = (end_time - start_time) \n",
    "    mins = int(execution_time // 60)\n",
    "    seconds = execution_time % 60\n",
    "    return f'{mins}mins nd{seconds:.2f}seconds'"
   ]
  },
  {
   "cell_type": "code",
   "execution_count": 6,
   "metadata": {},
   "outputs": [],
   "source": [
    "from contextlib import contextmanager\n",
    "\n",
    "@contextmanager\n",
    "def measurement_of_time(block_name: str=''):\n",
    "    start_time = time.time()\n",
    "    yield\n",
    "    end_time = time.time()\n",
    "    print(f'block {block_name} executed in: {execution_time_str(start_time, end_time)}')"
   ]
  },
  {
   "cell_type": "code",
   "execution_count": 7,
   "metadata": {},
   "outputs": [],
   "source": [
    "def extract_data_from_csv(file: str) -> pd.DataFrame:\n",
    "    df = pd.read_csv(file, usecols=['message','file'], dtype={'message':str, 'file':str})\n",
    "    messages_ls = df['message'].to_list()\n",
    "    file_ls = df['file'].to_list()\n",
    "\n",
    "    message = messages_ls[0]\n",
    "    e = email.message_from_string(message)\n",
    "    email_fields = e.keys()\n",
    "    print(f'email fields:{email_fields}')\n",
    "\n",
    "    # create email message object from the message list  using multiprocessing pool \n",
    "    pool = Pool(processes=nr_of_cpu_cores) \n",
    "\n",
    "    # with measurement_of_time(block_name='pool imap email.message_from_string'):\n",
    "    e_messages = pool.imap(email.message_from_string, messages_ls, chunksize=2000)\n",
    "\n",
    "\n",
    "    #get fields from parsed email objects and create a dataframe with cols for those fields\n",
    "\n",
    "    # with measurement_of_time():\n",
    "    rows = []\n",
    "    for e in e_messages:\n",
    "        row = dict((key,e[key]) for key in email_fields)\n",
    "        row['content'] = get_text_from_email(e)\n",
    "        row['To'] = split_email_addresses(row['To'])\n",
    "        row['From'] = split_email_addresses(row['From'])\n",
    "        rows.append(row)\n",
    "\n",
    "    # with measurement_of_time():\n",
    "    df = pd.DataFrame(rows, columns=email_fields)\n",
    "    \n",
    "    # with measurement_of_time():\n",
    "    # get user from the file names for each email entry\n",
    "    file_ls_chunk_sz = int(len(file_ls)/nr_of_cpu_cores)\n",
    "    user_from_file_ls = pool.map(get_user_name,file_ls,chunksize=file_ls_chunk_sz)\n",
    "    df['user'] = user_from_file_ls\n",
    "\n",
    "    return df"
   ]
  },
  {
   "cell_type": "code",
   "execution_count": null,
   "metadata": {},
   "outputs": [],
   "source": []
  }
 ],
 "metadata": {
  "kernelspec": {
   "display_name": "venv",
   "language": "python",
   "name": "python3"
  },
  "language_info": {
   "codemirror_mode": {
    "name": "ipython",
    "version": 3
   },
   "file_extension": ".py",
   "mimetype": "text/x-python",
   "name": "python",
   "nbconvert_exporter": "python",
   "pygments_lexer": "ipython3",
   "version": "3.9.12"
  },
  "orig_nbformat": 4
 },
 "nbformat": 4,
 "nbformat_minor": 2
}

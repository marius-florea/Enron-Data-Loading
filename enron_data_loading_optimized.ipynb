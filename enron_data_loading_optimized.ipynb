{
 "cells": [
  {
   "cell_type": "code",
   "execution_count": 3,
   "metadata": {},
   "outputs": [],
   "source": [
    "import os, sys, email\n",
    "import numpy as np \n",
    "import pandas as pd\n",
    "\n",
    "from datetime import datetime\n",
    "import gc\n",
    "import time\n",
    "\n",
    "from my_functions import get_user_name"
   ]
  },
  {
   "cell_type": "code",
   "execution_count": 4,
   "metadata": {},
   "outputs": [
    {
     "name": "stdout",
     "output_type": "stream",
     "text": [
      "4\n"
     ]
    }
   ],
   "source": [
    "from multiprocessing import Pool\n",
    "import multiprocessing as mp\n",
    "from multiprocessing import get_start_method\n",
    "try: \n",
    "    mp.set_start_method('spawn')\n",
    "except RuntimeError:\n",
    "    method = get_start_method()\n",
    "    print('process start method:', method)\n",
    "\n",
    "nr_of_cpu_cores = mp.cpu_count()\n",
    "print(nr_of_cpu_cores)"
   ]
  },
  {
   "cell_type": "code",
   "execution_count": 5,
   "metadata": {},
   "outputs": [],
   "source": [
    "# helper functions\n",
    "def get_text_from_email(msg):\n",
    "    '''To get the content from email objects'''\n",
    "    parts = []\n",
    "    for part in msg.walk():\n",
    "        if part.get_content_type() == 'text/plain':\n",
    "            parts.append(part.get_payload())\n",
    "\n",
    "        return ''.join(parts)\n",
    "    \n",
    "def split_email_addresses(line):\n",
    "    '''To separate multiple email addresses'''\n",
    "    if line:\n",
    "        addrs = line.split(',')\n",
    "        addrs = frozenset(map(lambda x: x.strip(), addrs))\n",
    "    else: \n",
    "        addrs = None\n",
    "    return addrs"
   ]
  },
  {
   "cell_type": "code",
   "execution_count": 6,
   "metadata": {},
   "outputs": [],
   "source": [
    "def execution_time_str(start_time: time, end_time: time) -> str:\n",
    "    execution_time = (end_time - start_time) \n",
    "    mins = int(execution_time // 60)\n",
    "    seconds = execution_time % 60\n",
    "    return f'{mins}mins nd{seconds:.2f}seconds'"
   ]
  },
  {
   "cell_type": "code",
   "execution_count": 7,
   "metadata": {},
   "outputs": [],
   "source": [
    "from contextlib import contextmanager\n",
    "\n",
    "@contextmanager\n",
    "def measurement_of_time(block_name: str=''):\n",
    "    start_time = time.time()\n",
    "    yield\n",
    "    end_time = time.time()\n",
    "    print(f'block {block_name} executed in: {execution_time_str(start_time, end_time)}')"
   ]
  },
  {
   "cell_type": "code",
   "execution_count": null,
   "metadata": {},
   "outputs": [],
   "source": []
  }
 ],
 "metadata": {
  "kernelspec": {
   "display_name": "venv",
   "language": "python",
   "name": "python3"
  },
  "language_info": {
   "codemirror_mode": {
    "name": "ipython",
    "version": 3
   },
   "file_extension": ".py",
   "mimetype": "text/x-python",
   "name": "python",
   "nbconvert_exporter": "python",
   "pygments_lexer": "ipython3",
   "version": "3.9.12"
  },
  "orig_nbformat": 4
 },
 "nbformat": 4,
 "nbformat_minor": 2
}
